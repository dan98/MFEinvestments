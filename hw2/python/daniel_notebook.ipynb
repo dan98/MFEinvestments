{
 "cells": [
  {
   "cell_type": "code",
   "execution_count": 3,
   "outputs": [],
   "source": [
    "import pandas as pd;\n",
    "import numpy as np;\n",
    "import matplotlib.pyplot as plt;\n",
    "\n",
    "import scipy.stats as stats;"
   ],
   "metadata": {
    "collapsed": false,
    "pycharm": {
     "name": "#%% Imports\n",
     "is_executing": false
    }
   }
  },
  {
   "cell_type": "code",
   "execution_count": 30,
   "outputs": [],
   "source": [
    "pr = np.array([0.025, 0.05, 0.10, 0.10, 0.10, 0.2, 0.2, 0.2, 0.025]);\n",
    "ret = np.array([-0.4, -0.2, -0.1, 0, 0.05, 0.1, 0.15, 0.20, 0.30]);\n",
    "\n",
    "\n",
    "sample = np.array([]);\n",
    "\n",
    "# Generate the sample with the given priors\n",
    "for i in range(pr.size):\n",
    "    # print(pr[i]);\n",
    "    for j in range(int(1000*pr[i])):\n",
    "        sample = np.append(sample, ret[i])"
   ],
   "metadata": {
    "collapsed": false,
    "pycharm": {
     "name": "#%% Generating the Sample\n",
     "is_executing": false
    }
   }
  },
  {
   "cell_type": "code",
   "execution_count": 29,
   "outputs": [
    {
     "data": {
      "text/plain": "<Figure size 432x288 with 1 Axes>",
      "image/png": "[encoded data removed]"
     },
     "metadata": {
      "needs_background": "light"
     },
     "output_type": "display_data"
    }
   ],
   "source": [
    "plt.figure();\n",
    "plt.hist(sample);\n",
    "plt.show();\n"
   ],
   "metadata": {
    "collapsed": false,
    "pycharm": {
     "name": "#%% Plotting the sample (visualization\n",
     "is_executing": false
    }
   }
  },
  {
   "cell_type": "code",
   "execution_count": 28,
   "outputs": [
    {
     "name": "stdout",
     "text": [
      "0.072\n",
      "0.137\n",
      "-1.323\n",
      "1.953\n"
     ],
     "output_type": "stream"
    }
   ],
   "source": [
    "mu = np.mean(sample)\n",
    "sigma = np.std(sample)\n",
    "g = stats.skew(sample)\n",
    "k = stats.kurtosis(sample)\n",
    "print(round(mu, 3))\n",
    "print(round(sigma, 3))\n",
    "print(round(g, 3))\n",
    "print(round(k, 3))"
   ],
   "metadata": {
    "collapsed": false,
    "pycharm": {
     "name": "#%% Sub-item (a): Compute the moments of the distribution\n",
     "is_executing": false
    }
   }
  },
  {
   "cell_type": "code",
   "execution_count": 7,
   "outputs": [
    {
     "name": "stdout",
     "text": [
      "The 1% and 5% quantiles\n",
      "[-0.4 -0.2]\n",
      "The 1% and 5% conditional expectation\n",
      "[-0.4 -0.3]\n",
      "The Value-at-Risk\n",
      "[-40. -20.]\n",
      "The conditional expected shortfall\n",
      "[-40. -30.]\n"
     ],
     "output_type": "stream"
    }
   ],
   "source": [
    "quants = np.quantile(sample, [0.01, 0.05]);\n",
    "\n",
    "print(\"The 1% and 5% quantiles\")\n",
    "print(quants)\n",
    "\n",
    "# Using teh second definition fails:\n",
    "# print(np.mean(sample[sample < quants[0]]))\n",
    "\n",
    "# Expected shortfall\n",
    "exp_shortfall = np.array([(-0.4*0.01) / 0.01, (-0.4*0.025 -0.2*0.025)/0.05])\n",
    "print(\"The 1% and 5% conditional expectation\")\n",
    "print(exp_shortfall)\n",
    "print(\"The Value-at-Risk\")\n",
    "print(quants*100);\n",
    "\n",
    "print(\"The conditional expected shortfall\")\n",
    "print(exp_shortfall*100)"
   ],
   "metadata": {
    "collapsed": false,
    "pycharm": {
     "name": "#%% Sub-item (b) Quantiles (Values at Risk)\n",
     "is_executing": false
    }
   }
  },
  {
   "cell_type": "code",
   "execution_count": 52,
   "outputs": [
    {
     "data": {
      "text/plain": "<pandas.io.formats.style.Styler at 0x12a6b3890>",
      "text/html": "<style  type=\"text/css\" >\n</style><table id=\"T_d1b75f66_5b00_11ea_9b0d_a45e60d21e3d\" ><thead>    <tr>        <th class=\"blank level0\" ></th>        <th class=\"col_heading level0 col0\" >rate</th>    </tr></thead><tbody>\n                <tr>\n                        <th id=\"T_d1b75f66_5b00_11ea_9b0d_a45e60d21e3dlevel0_row0\" class=\"row_heading level0 row0\" >2</th>\n                        <td id=\"T_d1b75f66_5b00_11ea_9b0d_a45e60d21e3drow0_col0\" class=\"data row0 col0\" >5.03%</td>\n            </tr>\n            <tr>\n                        <th id=\"T_d1b75f66_5b00_11ea_9b0d_a45e60d21e3dlevel0_row1\" class=\"row_heading level0 row1\" >3</th>\n                        <td id=\"T_d1b75f66_5b00_11ea_9b0d_a45e60d21e3drow1_col0\" class=\"data row1 col0\" >3.59%</td>\n            </tr>\n            <tr>\n                        <th id=\"T_d1b75f66_5b00_11ea_9b0d_a45e60d21e3dlevel0_row2\" class=\"row_heading level0 row2\" >4</th>\n                        <td id=\"T_d1b75f66_5b00_11ea_9b0d_a45e60d21e3drow2_col0\" class=\"data row2 col0\" >1.87%</td>\n            </tr>\n            <tr>\n                        <th id=\"T_d1b75f66_5b00_11ea_9b0d_a45e60d21e3dlevel0_row3\" class=\"row_heading level0 row3\" >5</th>\n                        <td id=\"T_d1b75f66_5b00_11ea_9b0d_a45e60d21e3drow3_col0\" class=\"data row3 col0\" >-0.14%</td>\n            </tr>\n            <tr>\n                        <th id=\"T_d1b75f66_5b00_11ea_9b0d_a45e60d21e3dlevel0_row4\" class=\"row_heading level0 row4\" >6</th>\n                        <td id=\"T_d1b75f66_5b00_11ea_9b0d_a45e60d21e3drow4_col0\" class=\"data row4 col0\" >-2.46%</td>\n            </tr>\n            <tr>\n                        <th id=\"T_d1b75f66_5b00_11ea_9b0d_a45e60d21e3dlevel0_row5\" class=\"row_heading level0 row5\" >7</th>\n                        <td id=\"T_d1b75f66_5b00_11ea_9b0d_a45e60d21e3drow5_col0\" class=\"data row5 col0\" >-5.01%</td>\n            </tr>\n            <tr>\n                        <th id=\"T_d1b75f66_5b00_11ea_9b0d_a45e60d21e3dlevel0_row6\" class=\"row_heading level0 row6\" >8</th>\n                        <td id=\"T_d1b75f66_5b00_11ea_9b0d_a45e60d21e3drow6_col0\" class=\"data row6 col0\" >-7.68%</td>\n            </tr>\n            <tr>\n                        <th id=\"T_d1b75f66_5b00_11ea_9b0d_a45e60d21e3dlevel0_row7\" class=\"row_heading level0 row7\" >9</th>\n                        <td id=\"T_d1b75f66_5b00_11ea_9b0d_a45e60d21e3drow7_col0\" class=\"data row7 col0\" >-10.34%</td>\n            </tr>\n            <tr>\n                        <th id=\"T_d1b75f66_5b00_11ea_9b0d_a45e60d21e3dlevel0_row8\" class=\"row_heading level0 row8\" >10</th>\n                        <td id=\"T_d1b75f66_5b00_11ea_9b0d_a45e60d21e3drow8_col0\" class=\"data row8 col0\" >-12.88%</td>\n            </tr>\n            <tr>\n                        <th id=\"T_d1b75f66_5b00_11ea_9b0d_a45e60d21e3dlevel0_row9\" class=\"row_heading level0 row9\" >11</th>\n                        <td id=\"T_d1b75f66_5b00_11ea_9b0d_a45e60d21e3drow9_col0\" class=\"data row9 col0\" >-15.21%</td>\n            </tr>\n            <tr>\n                        <th id=\"T_d1b75f66_5b00_11ea_9b0d_a45e60d21e3dlevel0_row10\" class=\"row_heading level0 row10\" >12</th>\n                        <td id=\"T_d1b75f66_5b00_11ea_9b0d_a45e60d21e3drow10_col0\" class=\"data row10 col0\" >-17.31%</td>\n            </tr>\n            <tr>\n                        <th id=\"T_d1b75f66_5b00_11ea_9b0d_a45e60d21e3dlevel0_row11\" class=\"row_heading level0 row11\" >13</th>\n                        <td id=\"T_d1b75f66_5b00_11ea_9b0d_a45e60d21e3drow11_col0\" class=\"data row11 col0\" >-19.16%</td>\n            </tr>\n            <tr>\n                        <th id=\"T_d1b75f66_5b00_11ea_9b0d_a45e60d21e3dlevel0_row12\" class=\"row_heading level0 row12\" >14</th>\n                        <td id=\"T_d1b75f66_5b00_11ea_9b0d_a45e60d21e3drow12_col0\" class=\"data row12 col0\" >-20.79%</td>\n            </tr>\n    </tbody></table>"
     },
     "metadata": {},
     "output_type": "display_data"
    },
    {
     "name": "stdout",
     "text": [
      "\\begin{tabular}{lr}\n",
      "\\toprule\n",
      "{} &        rate \\\\\n",
      "\\midrule\n",
      "2  &       5.03\\% \\\\\n",
      "3  &       3.59\\% \\\\\n",
      "4  &       1.87\\% \\\\\n",
      "5  &      -0.14\\% \\\\\n",
      "6  &      -2.46\\% \\\\\n",
      "7  &      -5.01\\% \\\\\n",
      "8  &      -7.68\\% \\\\\n",
      "9  &     -10.34\\% \\\\\n",
      "10 &     -12.88\\% \\\\\n",
      "11 &     -15.21\\% \\\\\n",
      "12 &     -17.31\\% \\\\\n",
      "13 &     -19.16\\% \\\\\n",
      "14 &     -20.79\\% \\\\\n",
      "\\bottomrule\n",
      "\\end{tabular}\n",
      "\n",
      "The breakeven risk-free asset is 5.03%\n",
      "The investor is willing to forfeit 2.22% in expected return\n"
     ],
     "output_type": "stream"
    },
    {
     "data": {
      "text/plain": "<Figure size 432x288 with 1 Axes>",
      "image/png": "[encoded data removed]"
     },
     "metadata": {
      "needs_background": "light"
     },
     "output_type": "display_data"
    }
   ],
   "source": [
    "def utility(w, gamma = 2):\n",
    "    return np.power(w, 1 - gamma)/(1 - gamma)\n",
    "\n",
    "def inverse_utility(u, gamma = 2):\n",
    "    return np.exp(np.log(u*(1 - gamma))/(1 - gamma))\n",
    "\n",
    "\n",
    "# Test the inverse utility function\n",
    "# print(inverse_utility(utility(400)));\n",
    "\n",
    "# 100% either in risky or risk-free\n",
    "\n",
    "gamma_range = range(2, 15)\n",
    "rf = pd.Series(data = np.zeros(len(gamma_range)),\n",
    "               index = gamma_range,\n",
    "               name = \"rate\")\n",
    "\n",
    "W0 = 100\n",
    "\n",
    "rf = [inverse_utility(np.mean([utility((1 + x) * W0, ra) for x in sample]), ra)/W0 - 1 for ra in gamma_range]\n",
    "\"\"\"\n",
    "for ra in gamma_range:\n",
    "    expected_utility = np.mean([utility((1 + x) * W0, ra) for x in sample])\n",
    "    rf[ra] = inverse_utility(expected_utility, ra) / W0 - 1\n",
    "\"\"\"\n",
    "    \n",
    "pf = pd.DataFrame(data = rf, index = gamma_range)\n",
    "pf.columns = ['rate']\n",
    "\n",
    "pf.style.format({\"rate\": lambda x: \"{:.2%}\".format(x)})\n",
    "display(pf.style.format({\"rate\": lambda x: \"{:.2%}\".format(x)}))\n",
    "print(pf.to_latex(float_format=lambda x: '%10.2f%%' % (x*100)))\n",
    "\n",
    "print('The breakeven risk-free asset is %.2f%%' % (pf.loc[2] * 100))\n",
    "\n",
    "print('The investor is willing to forfeit %.2f%% in expected return' % ((mu - pf.loc[2])*100))\n",
    "\n",
    "plt.figure();\n",
    "plt.plot(pf);\n",
    "plt.show();\n",
    "\n",
    "# The utility increases with gamma > 2"
   ],
   "metadata": {
    "collapsed": false,
    "pycharm": {
     "name": "#%% Part (d) Utility\n",
     "is_executing": false
    }
   }
  },
  {
   "cell_type": "code",
   "execution_count": 60,
   "outputs": [
    {
     "name": "stderr",
     "text": [
      "/Users/daniel/Documents/Courses/investments/assignments/hw2/python/venv/lib/python3.7/site-packages/ipykernel_launcher.py:8: DeprecationWarning: The default dtype for empty Series will be 'object' instead of 'float64' in a future version. Specify a dtype explicitly to silence this warning.\n",
      "  \n"
     ],
     "output_type": "stream"
    },
    {
     "data": {
      "text/plain": "0.000    0.00\n0.005    0.00\n0.010    0.00\n0.015    0.00\n0.020    0.00\n0.025    0.05\n0.030    0.10\n0.035    0.20\n0.040    0.30\n0.045    0.35\n0.050    0.45\n0.055    0.55\n0.060    0.70\n0.065    0.80\n0.070    0.95\nName: Pi*, dtype: float64"
     },
     "metadata": {},
     "output_type": "display_data"
    }
   ],
   "source": [
    "gamma = 2;\n",
    "# Start investing all the wealth in the risk-less asset at approx 7.2% return\n",
    "# it is higher than the equivalent risk-free interest rate providing the same\n",
    "# utility as the expectation of the utility of the risky return.\n",
    "\n",
    "rf_range = np.arange(0.000, 0.074, 0.005)\n",
    "\n",
    "pi_star = pd.Series(data = None, index = rf_range, name = \"Pi*\")\n",
    "\n",
    "for rf in rf_range:\n",
    "    utility_pi = {};\n",
    "    # invest pi in the risk-less assets\n",
    "    for pi in np.arange(0, 1 + 0.05, 0.05):\n",
    "        \n",
    "        utility_pi[pi] = np.mean([utility((1 + x) * W0 * (1 - pi) +\n",
    "                              (1 + rf) * W0 * pi, gamma) for x in sample]);\n",
    "    pi_star[rf] = max(utility_pi, key = utility_pi.get);\n",
    "    \n",
    "display(pi_star)"
   ],
   "metadata": {
    "collapsed": false,
    "pycharm": {
     "name": "#%% Part (e)\n",
     "is_executing": false
    }
   }
  },
  {
   "cell_type": "code",
   "execution_count": 71,
   "outputs": [
    {
     "data": {
      "text/plain": "<Figure size 432x288 with 1 Axes>",
      "image/png": "[encoded data removed]"
     },
     "metadata": {
      "needs_background": "light"
     },
     "output_type": "display_data"
    },
    {
     "data": {
      "text/plain": "<pandas.io.formats.style.Styler at 0x12bac2c50>",
      "text/html": "<style  type=\"text/css\" >\n</style><table id=\"T_f30cd32e_5b02_11ea_9b0d_a45e60d21e3d\" ><thead>    <tr>        <th class=\"blank level0\" ></th>        <th class=\"col_heading level0 col0\" >Pi*</th>    </tr>    <tr>        <th class=\"index_name level0\" >rf</th>        <th class=\"blank\" ></th>    </tr></thead><tbody>\n                <tr>\n                        <th id=\"T_f30cd32e_5b02_11ea_9b0d_a45e60d21e3dlevel0_row0\" class=\"row_heading level0 row0\" >0.0</th>\n                        <td id=\"T_f30cd32e_5b02_11ea_9b0d_a45e60d21e3drow0_col0\" class=\"data row0 col0\" >0.0</td>\n            </tr>\n            <tr>\n                        <th id=\"T_f30cd32e_5b02_11ea_9b0d_a45e60d21e3dlevel0_row1\" class=\"row_heading level0 row1\" >0.005</th>\n                        <td id=\"T_f30cd32e_5b02_11ea_9b0d_a45e60d21e3drow1_col0\" class=\"data row1 col0\" >0.0</td>\n            </tr>\n            <tr>\n                        <th id=\"T_f30cd32e_5b02_11ea_9b0d_a45e60d21e3dlevel0_row2\" class=\"row_heading level0 row2\" >0.01</th>\n                        <td id=\"T_f30cd32e_5b02_11ea_9b0d_a45e60d21e3drow2_col0\" class=\"data row2 col0\" >0.0</td>\n            </tr>\n            <tr>\n                        <th id=\"T_f30cd32e_5b02_11ea_9b0d_a45e60d21e3dlevel0_row3\" class=\"row_heading level0 row3\" >0.015</th>\n                        <td id=\"T_f30cd32e_5b02_11ea_9b0d_a45e60d21e3drow3_col0\" class=\"data row3 col0\" >0.0</td>\n            </tr>\n            <tr>\n                        <th id=\"T_f30cd32e_5b02_11ea_9b0d_a45e60d21e3dlevel0_row4\" class=\"row_heading level0 row4\" >0.02</th>\n                        <td id=\"T_f30cd32e_5b02_11ea_9b0d_a45e60d21e3drow4_col0\" class=\"data row4 col0\" >0.0</td>\n            </tr>\n            <tr>\n                        <th id=\"T_f30cd32e_5b02_11ea_9b0d_a45e60d21e3dlevel0_row5\" class=\"row_heading level0 row5\" >0.025</th>\n                        <td id=\"T_f30cd32e_5b02_11ea_9b0d_a45e60d21e3drow5_col0\" class=\"data row5 col0\" >0.05</td>\n            </tr>\n            <tr>\n                        <th id=\"T_f30cd32e_5b02_11ea_9b0d_a45e60d21e3dlevel0_row6\" class=\"row_heading level0 row6\" >0.03</th>\n                        <td id=\"T_f30cd32e_5b02_11ea_9b0d_a45e60d21e3drow6_col0\" class=\"data row6 col0\" >0.1</td>\n            </tr>\n            <tr>\n                        <th id=\"T_f30cd32e_5b02_11ea_9b0d_a45e60d21e3dlevel0_row7\" class=\"row_heading level0 row7\" >0.035</th>\n                        <td id=\"T_f30cd32e_5b02_11ea_9b0d_a45e60d21e3drow7_col0\" class=\"data row7 col0\" >0.2</td>\n            </tr>\n            <tr>\n                        <th id=\"T_f30cd32e_5b02_11ea_9b0d_a45e60d21e3dlevel0_row8\" class=\"row_heading level0 row8\" >0.04</th>\n                        <td id=\"T_f30cd32e_5b02_11ea_9b0d_a45e60d21e3drow8_col0\" class=\"data row8 col0\" >0.3</td>\n            </tr>\n            <tr>\n                        <th id=\"T_f30cd32e_5b02_11ea_9b0d_a45e60d21e3dlevel0_row9\" class=\"row_heading level0 row9\" >0.045</th>\n                        <td id=\"T_f30cd32e_5b02_11ea_9b0d_a45e60d21e3drow9_col0\" class=\"data row9 col0\" >0.35</td>\n            </tr>\n            <tr>\n                        <th id=\"T_f30cd32e_5b02_11ea_9b0d_a45e60d21e3dlevel0_row10\" class=\"row_heading level0 row10\" >0.05</th>\n                        <td id=\"T_f30cd32e_5b02_11ea_9b0d_a45e60d21e3drow10_col0\" class=\"data row10 col0\" >0.45</td>\n            </tr>\n            <tr>\n                        <th id=\"T_f30cd32e_5b02_11ea_9b0d_a45e60d21e3dlevel0_row11\" class=\"row_heading level0 row11\" >0.055</th>\n                        <td id=\"T_f30cd32e_5b02_11ea_9b0d_a45e60d21e3drow11_col0\" class=\"data row11 col0\" >0.55</td>\n            </tr>\n            <tr>\n                        <th id=\"T_f30cd32e_5b02_11ea_9b0d_a45e60d21e3dlevel0_row12\" class=\"row_heading level0 row12\" >0.06</th>\n                        <td id=\"T_f30cd32e_5b02_11ea_9b0d_a45e60d21e3drow12_col0\" class=\"data row12 col0\" >0.7</td>\n            </tr>\n            <tr>\n                        <th id=\"T_f30cd32e_5b02_11ea_9b0d_a45e60d21e3dlevel0_row13\" class=\"row_heading level0 row13\" >0.065</th>\n                        <td id=\"T_f30cd32e_5b02_11ea_9b0d_a45e60d21e3drow13_col0\" class=\"data row13 col0\" >0.8</td>\n            </tr>\n            <tr>\n                        <th id=\"T_f30cd32e_5b02_11ea_9b0d_a45e60d21e3dlevel0_row14\" class=\"row_heading level0 row14\" >0.07</th>\n                        <td id=\"T_f30cd32e_5b02_11ea_9b0d_a45e60d21e3drow14_col0\" class=\"data row14 col0\" >0.95</td>\n            </tr>\n    </tbody></table>"
     },
     "metadata": {},
     "output_type": "display_data"
    },
    {
     "name": "stdout",
     "text": [
      "\\begin{tabular}{lr}\n",
      "\\toprule\n",
      "{} &        Pi* \\\\\n",
      "rf    &            \\\\\n",
      "\\midrule\n",
      "0.000 &       0.00 \\\\\n",
      "0.005 &       0.00 \\\\\n",
      "0.010 &       0.00 \\\\\n",
      "0.015 &       0.00 \\\\\n",
      "0.020 &       0.00 \\\\\n",
      "0.025 &       5.00 \\\\\n",
      "0.030 &      10.00 \\\\\n",
      "0.035 &      20.00 \\\\\n",
      "0.040 &      30.00 \\\\\n",
      "0.045 &      35.00 \\\\\n",
      "0.050 &      45.00 \\\\\n",
      "0.055 &      55.00 \\\\\n",
      "0.060 &      70.00 \\\\\n",
      "0.065 &      80.00 \\\\\n",
      "0.070 &      95.00 \\\\\n",
      "\\bottomrule\n",
      "\\end{tabular}\n",
      "\n",
      "The breakeven risk-free asset is 5.03%\n",
      "The investor is willing to forfeit 2.22% in expected return\n"
     ],
     "output_type": "stream"
    }
   ],
   "source": [
    "plt.figure()\n",
    "plt.plot(pi_star)\n",
    "plt.show()\n",
    "\n",
    "pi = pd.DataFrame(data = pi_star, index = rf_range)\n",
    "pi.index.names = ['rf']\n",
    "\n",
    "display(pi.style.format({\"Pi*\": lambda x: \"{:.2}\".format(x)}))\n",
    "print(pi.to_latex(float_format=lambda x: '%10.2f' % (x*100)))\n",
    "\n",
    "print('The breakeven risk-free asset is %.2f%%' % (pf.loc[2] * 100))\n",
    "\n",
    "print('The investor is willing to forfeit %.2f%% in expected return' % ((mu - pf.loc[2])*100))\n"
   ],
   "metadata": {
    "collapsed": false,
    "pycharm": {
     "name": "#%%\n",
     "is_executing": false
    }
   }
  },
  {
   "cell_type": "code",
   "execution_count": 10,
   "outputs": [
    {
     "name": "stdout",
     "text": [
      "23 este x\n",
      "C1\n",
      "(<class 'object'>,)\n"
     ],
     "output_type": "stream"
    }
   ],
   "source": [
    "class C1(object):\n",
    "    x = 23\n",
    "    \n",
    "print(C1.x, \"este x\")\n",
    "print(C1.__name__)\n",
    "\n",
    "print(C1.__bases__)"
   ],
   "metadata": {
    "collapsed": false,
    "pycharm": {
     "name": "#%% OOP\n",
     "is_executing": false
    }
   }
  },
  {
   "cell_type": "code",
   "execution_count": 11,
   "outputs": [
    {
     "data": {
      "text/plain": "0.07300000000000001"
     },
     "metadata": {},
     "output_type": "display_data"
    },
    {
     "traceback": [
      "\u001b[0;31m---------------------------------------------------------------------------\u001b[0m",
      "\u001b[0;31mAttributeError\u001b[0m                            Traceback (most recent call last)",
      "\u001b[0;32m<ipython-input-11-9fbf04848a76>\u001b[0m in \u001b[0;36m<module>\u001b[0;34m\u001b[0m\n\u001b[1;32m      1\u001b[0m \u001b[0mdisplay\u001b[0m\u001b[0;34m(\u001b[0m\u001b[0mrf\u001b[0m\u001b[0;34m)\u001b[0m\u001b[0;34m\u001b[0m\u001b[0;34m\u001b[0m\u001b[0m\n\u001b[0;32m----> 2\u001b[0;31m \u001b[0mrf\u001b[0m\u001b[0;34m.\u001b[0m\u001b[0munique\u001b[0m\u001b[0;34m(\u001b[0m\u001b[0;34m)\u001b[0m\u001b[0;34m\u001b[0m\u001b[0;34m\u001b[0m\u001b[0m\n\u001b[0m\u001b[1;32m      3\u001b[0m \u001b[0mrf\u001b[0m\u001b[0;34m[\u001b[0m\u001b[0;34m(\u001b[0m\u001b[0mrf\u001b[0m \u001b[0;34m>\u001b[0m \u001b[0;36m0.00\u001b[0m\u001b[0;34m)\u001b[0m \u001b[0;34m&\u001b[0m \u001b[0;34m(\u001b[0m\u001b[0mrf\u001b[0m \u001b[0;34m<\u001b[0m \u001b[0;36m0.04\u001b[0m\u001b[0;34m)\u001b[0m\u001b[0;34m]\u001b[0m\u001b[0;34m\u001b[0m\u001b[0;34m\u001b[0m\u001b[0m\n",
      "\u001b[0;31mAttributeError\u001b[0m: 'numpy.float64' object has no attribute 'unique'"
     ],
     "ename": "AttributeError",
     "evalue": "'numpy.float64' object has no attribute 'unique'",
     "output_type": "error"
    }
   ],
   "source": [
    "\n",
    "display(rf)\n",
    "rf.unique()\n",
    "rf[(rf > 0.00) & (rf < 0.04)]"
   ],
   "metadata": {
    "collapsed": false,
    "pycharm": {
     "name": "#%% Pandas \n",
     "is_executing": false
    }
   }
  }
 ],
 "metadata": {
  "kernelspec": {
   "display_name": "Python 3",
   "language": "python",
   "name": "python3"
  },
  "language_info": {
   "codemirror_mode": {
    "name": "ipython",
    "version": 2
   },
   "file_extension": ".py",
   "mimetype": "text/x-python",
   "name": "python",
   "nbconvert_exporter": "python",
   "pygments_lexer": "ipython2",
   "version": "2.7.6"
  },
  "pycharm": {
   "stem_cell": {
    "cell_type": "raw",
    "source": [],
    "metadata": {
     "collapsed": false
    }
   }
  }
 },
 "nbformat": 4,
 "nbformat_minor": 0
}