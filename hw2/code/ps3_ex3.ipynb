{
 "cells": [
  {
   "cell_type": "code",
   "execution_count": 1,
   "metadata": {
    "pycharm": {
     "is_executing": false,
     "name": "#%% Imports\n"
    }
   },
   "outputs": [],
   "source": [
    "# import standard libraries\n",
    "import datetime\n",
    "import numpy as np\n",
    "# import third-party libraries\n",
    "import matplotlib.pyplot as plt\n",
    "import pandas as pd\n",
    "from scipy.stats import norm\n",
    "import wrds\n",
    "# import local libraries\n",
    "\n",
    "plt.close('all')\n",
    "\n",
    "DOWNLOAD = True"
   ]
  },
  {
   "cell_type": "code",
   "execution_count": 4,
   "metadata": {},
   "outputs": [],
   "source": [
    "# Create stock class"
   ]
  },
  {
   "cell_type": "code",
   "execution_count": 5,
   "metadata": {
    "pycharm": {
     "is_executing": false,
     "name": "#%% Sub-item (a): Compute the moments of the distribution\n"
    }
   },
   "outputs": [],
   "source": [
    "class Stock:\n",
    "     \n",
    "    def __init__(self, name, data):\n",
    "        self.name = name\n",
    "        self.data = data\n",
    "        # compute winsorized data\n",
    "        self.data_win = data[data.between(-0.04, 0.04, inclusive = False)]\n",
    "        self.mean = None\n",
    "        self.var = None\n",
    "        self.mean_win = None\n",
    "        self.var_win = None\n",
    "        self.var95 = None\n",
    "        self.var99 = None\n",
    "        self.var95_norm = None\n",
    "        self.var99_norm = None\n",
    "        self.es95 = None\n",
    "        self.es99 = None\n",
    "        self.es95_norm = None\n",
    "        self.es99_norm = None\n",
    "        \n",
    "    def computeMetrics(self):\n",
    "        # compute mean and variance of normal data\n",
    "        self.mean = self.data.mean()\n",
    "        self.var = self.data.var()\n",
    "        # compute mean and variance of winsorized data\n",
    "        self.mean_win = self.data_win.mean()\n",
    "        self.var_win = self.data_win.var()\n",
    "        \n",
    "    def printMetrics(self):\n",
    "        print('\\nMean of {} daily simple returns: {:.6f}'.format(self.name, self.mean))\n",
    "        print('Variance of {} daily simple returns: {:.6f}'.format(self.name, self.var))\n",
    "        print('Winsorized mean of {} daily simple returns: {:.6f}'.format(self.name, self.mean_win))\n",
    "        print('Winsorized variance of {} daily simple returns: {:.6f}'.format(self.name, self.var_win))\n",
    "        \n",
    "    def plotDistribution(self):\n",
    "        fig, ax = plt.subplots()\n",
    "        self.data.plot.hist(bins = 100, density = True, ax = ax,\n",
    "                            title = self.name,\n",
    "                            label = 'Empirical density function',\n",
    "                            color = '#6ab0e6',\n",
    "                            )\n",
    "        # plot normal distribution of data\n",
    "        xmin, xmax = plt.xlim()\n",
    "        x = np.linspace(xmin, xmax, 1000)\n",
    "        p = norm.pdf(x, self.mean, np.sqrt(self.var))\n",
    "        ax.plot(x, p, 'r', label = 'Normal density calibrated to data',\n",
    "                color = 'r')\n",
    "        # plot normal distribution of winsorized data\n",
    "        p_win = norm.pdf(x, self.mean_win, np.sqrt(self.var_win))\n",
    "        ax.plot(x, p_win, 'g', label = 'Normal density calibrated to winsorized data',\n",
    "                color = 'g')\n",
    "        \n",
    "        plt.legend(prop={'size': 7})\n",
    "    \n",
    "    def computeQuantiles(self):\n",
    "        # var\n",
    "        self.var99 = self.data.quantile(0.01)\n",
    "        self.var95 = self.data.quantile(0.05)\n",
    "        self.var99_norm = norm.ppf(0.01, loc = self.mean, scale = np.sqrt(self.var))\n",
    "        self.var95_norm = norm.ppf(0.05, loc = self.mean, scale = np.sqrt(self.var))\n",
    "        \n",
    "        # expected shortfall of empirical data\n",
    "        sorted_data = self.data.sort_values()\n",
    "        sorted_data_below_var99 = sorted_data[sorted_data <= self.var99]     \n",
    "        sorted_data_below_var95 = sorted_data[sorted_data <= self.var95]\n",
    "        self.es99 = sorted_data_below_var99.mean()\n",
    "        self.es95 = sorted_data_below_var95.mean()\n",
    "        \n",
    "        # expected shortfall of normal distribution\n",
    "        # self.es99_norm = (norm.cdf(self.var99, loc = self.mean, scale = np.sqrt(self.var)))\n",
    "        # self.es95_norm = (norm.cdf(self.var95, loc = self.mean, scale = np.sqrt(self.var)))\n",
    "\n",
    "        self.es99_norm = (norm.pdf(norm.ppf(0.01))*np.sqrt(self.var))/0.01 - self.mean\n",
    "        self.es95_norm = (norm.pdf(norm.ppf(0.05))*np.sqrt(self.var))/0.05 - self.mean\n",
    "        \n",
    "    def printQuantiles(self):\n",
    "        print('\\n{}'.format(self.name))\n",
    "        print('95% VaR (empirical): {:.6f}'.format(self.var95))\n",
    "        print('99% VaR (empirical): {:.6f}'.format(self.var99))\n",
    "        print('95% VaR (normal): {:.6f}'.format(self.var95_norm))\n",
    "        print('99% VaR (normal): {:.6f}'.format(self.var99_norm))\n",
    "        \n",
    "        print('\\n95% ES (empirical): {:.6f}'.format(self.es95))\n",
    "        print('99% ES (empirical): {:.6f}'.format(self.es99))\n",
    "        print('95% ES (normal): {:.6f}'.format(self.es95_norm))\n",
    "        print('99% ES (normal): {:.6f}'.format(self.es99_norm))\n",
    "                "
   ]
  },
  {
   "cell_type": "code",
   "execution_count": null,
   "metadata": {
    "pycharm": {
     "is_executing": false,
     "name": "#%% Sub-item (b) Quantiles (Values at Risk)\n"
    }
   },
   "outputs": [],
   "source": [
    "# run main"
   ]
  },
  {
   "cell_type": "code",
   "execution_count": null,
   "metadata": {
    "pycharm": {
     "is_executing": false,
     "name": "#%% Part (d) Utility\n"
    }
   },
   "outputs": [],
   "source": [
    "if __name__ == '__main__':\n",
    "    \n",
    "    if DOWNLOAD:\n",
    "        # connect to databse and download csv files (run once)\n",
    "        db = wrds.Connection(wrds_username = 'wmartin')\n",
    "        db.create_pgpass_file() # run once\n",
    "    \n",
    "        # download data\n",
    "        aapl = db.raw_sql(\"select date, ret from crsp.dsf where permco in (7) and date>='1999-12-31' and date<='2019-12-31'\")\n",
    "        gs = db.raw_sql(\"select date, ret from crsp.dsf where permco in (35048) and date>='1999-12-31' and date<='2019-12-31'\")\n",
    "        msft = db.raw_sql(\"select date, ret from crsp.dsf where permco in (8048) and date>='1999-12-31' and date<='2019-12-31'\")\n",
    "        pg = db.raw_sql(\"select date, ret from crsp.dsf where permco in (21446) and date>='1999-12-31' and date<='2019-12-31'\")\n",
    "        ge = db.raw_sql(\"select date, ret from crsp.dsf where permco in (20792) and date>='1999-12-31' and date<='2019-12-31'\")\n",
    "    \n",
    "        # save csv\n",
    "        aapl.to_csv('aapl.csv')\n",
    "        gs.to_csv('gs.csv')\n",
    "        msft.to_csv('msft.csv')\n",
    "        pg.to_csv('pg.csv')\n",
    "        ge.to_csv('ge.csv')\n",
    "    \n",
    "    # read csvs\n",
    "    use_cols = ['ret', 'date']\n",
    "    index_col = 'date'\n",
    "    \n",
    "    aapl = pd.read_csv('aapl.csv', usecols = use_cols, index_col = index_col)\n",
    "    gs = pd.read_csv('gs.csv', usecols = use_cols, index_col = index_col)\n",
    "    msft = pd.read_csv('msft.csv', usecols = use_cols, index_col = index_col)\n",
    "    pg = pd.read_csv('pg.csv', usecols = use_cols, index_col = index_col)\n",
    "    ge = pd.read_csv('ge.csv', usecols = use_cols, index_col = index_col)\n",
    "\n",
    "    # create stock objects\n",
    "    stocks = dict(aapl = Stock('aapl', aapl['ret']),\n",
    "                  gs = Stock('gs', gs['ret']),\n",
    "                  msft = Stock('msft', msft['ret']),\n",
    "                  pg = Stock('pg', pg['ret']),\n",
    "                  ge = Stock('ge', ge['ret'])\n",
    "                  )\n",
    "    \n",
    "    # (a) compute mean and variance of daily simple returns\n",
    "    # (b) and winsorized mean and variance\n",
    "    for _, stock in stocks.items():\n",
    "        stock.computeMetrics()\n",
    "        stock.printMetrics()\n",
    "        \n",
    "    # (b cont.)\n",
    "    # plot distributions\n",
    "    for _, stock in stocks.items():\n",
    "        stock.plotDistribution()\n",
    "        \n",
    "    # (c) \n",
    "    for _, stock in stocks.items():\n",
    "        stock.computeQuantiles()\n",
    "        stock.printQuantiles()"
   ]
  },
  {
   "cell_type": "code",
   "execution_count": null,
   "metadata": {
    "pycharm": {
     "is_executing": false,
     "name": "#%% Part (e)\n"
    }
   },
   "outputs": [],
   "source": []
  },
  {
   "cell_type": "code",
   "execution_count": null,
   "metadata": {
    "pycharm": {
     "is_executing": false,
     "name": "#%%\n"
    }
   },
   "outputs": [],
   "source": []
  },
  {
   "cell_type": "code",
   "execution_count": null,
   "metadata": {},
   "outputs": [],
   "source": []
  }
 ],
 "metadata": {
  "kernelspec": {
   "display_name": "Python 3",
   "language": "python",
   "name": "python3"
  },
  "language_info": {
   "codemirror_mode": {
    "name": "ipython",
    "version": 3
   },
   "file_extension": ".py",
   "mimetype": "text/x-python",
   "name": "python",
   "nbconvert_exporter": "python",
   "pygments_lexer": "ipython3",
   "version": "3.7.6"
  },
  "pycharm": {
   "stem_cell": {
    "cell_type": "raw",
    "metadata": {
     "collapsed": false
    },
    "source": []
   }
  }
 },
 "nbformat": 4,
 "nbformat_minor": 1
}
