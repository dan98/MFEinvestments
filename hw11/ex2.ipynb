{
 "cells": [
  {
   "cell_type": "code",
   "execution_count": 1,
   "metadata": {},
   "outputs": [],
   "source": [
    "#!/usr/bin/env python3\n",
    "# -*- coding: utf-8 -*-\n",
    "\"\"\"\n",
    "Created on Thu May 14 11:29:41 2020\n",
    "\n",
    "@author: williammartin\n",
    "\"\"\"\n",
    "\n",
    "# import standard libraries\n",
    "import matplotlib.pyplot as plt\n",
    "import numpy as np\n",
    "# import third-party libraries\n",
    "import pandas as pd\n",
    "# import local libraries\n",
    "\n",
    "# read table 1\n",
    "tab1 =  pd.read_csv('table1.csv', index_col = 0)\n",
    "# fill missing values\n",
    "tab1 = tab1.fillna(1)\n",
    "tab1 *= tab1.T\n",
    "\n",
    "# read table 2\n",
    "tab2 = pd.read_csv('table2.csv', index_col = 0)"
   ]
  },
  {
   "cell_type": "markdown",
   "metadata": {},
   "source": [
    "# a)"
   ]
  },
  {
   "cell_type": "code",
   "execution_count": 2,
   "metadata": {},
   "outputs": [],
   "source": [
    "gamma = 3.0\n",
    "corr =  tab1.copy()\n",
    "std = tab2['sigma'].copy()/100\n",
    "weq = tab2['weight'].copy()/100\n",
    "# compute covariance matrix\n",
    "sigma = pd.DataFrame(data = np.nan, columns = corr.columns,\n",
    "                   index =  corr.index)\n",
    "for i, ser in corr.iterrows():\n",
    "    for j, v in ser.iteritems():\n",
    "        sigma.loc[i, j] = std[i]*std[j]*v\n",
    "mu0 = gamma*sigma.dot(weq)"
   ]
  },
  {
   "cell_type": "code",
   "execution_count": 3,
   "metadata": {},
   "outputs": [
    {
     "name": "stdout",
     "output_type": "stream",
     "text": [
      "The expected return vector mu0\n"
     ]
    },
    {
     "data": {
      "text/plain": [
       "Australia    0.047251\n",
       "Canada       0.082982\n",
       "France       0.100297\n",
       "Germany      0.108327\n",
       "Japan        0.051634\n",
       "UK           0.081212\n",
       "USA          0.090721\n",
       "dtype: float64"
      ]
     },
     "execution_count": 3,
     "metadata": {},
     "output_type": "execute_result"
    }
   ],
   "source": [
    "print('The expected return vector mu0')\n",
    "mu0"
   ]
  },
  {
   "cell_type": "markdown",
   "metadata": {},
   "source": [
    "# b)"
   ]
  },
  {
   "cell_type": "code",
   "execution_count": 4,
   "metadata": {},
   "outputs": [],
   "source": [
    "gamma = 2.5 # we assume this gamma for the rest of the exercise\n",
    "tau = 0.05\n",
    "omega0 = tau*sigma\n",
    "sigma0 = omega0 + sigma\n",
    "w0 = pd.Series(np.linalg.inv(sigma0).dot(mu0)/gamma, index = corr.index)\n",
    "wdiff = w0-weq"
   ]
  },
  {
   "cell_type": "code",
   "execution_count": 5,
   "metadata": {},
   "outputs": [
    {
     "name": "stdout",
     "output_type": "stream",
     "text": [
      "Optimal portfolio w0\n"
     ]
    },
    {
     "data": {
      "text/plain": [
       "Australia    0.018286\n",
       "Canada       0.025143\n",
       "France       0.059429\n",
       "Germany      0.062857\n",
       "Japan        0.132571\n",
       "UK           0.141714\n",
       "USA          0.702857\n",
       "dtype: float64"
      ]
     },
     "execution_count": 5,
     "metadata": {},
     "output_type": "execute_result"
    }
   ],
   "source": [
    "print('Optimal portfolio w0')\n",
    "w0"
   ]
  },
  {
   "cell_type": "code",
   "execution_count": 6,
   "metadata": {},
   "outputs": [
    {
     "name": "stdout",
     "output_type": "stream",
     "text": [
      "Deviation of w0 from the equilibrium market weights weq\n"
     ]
    },
    {
     "data": {
      "text/plain": [
       "Australia    0.002286\n",
       "Canada       0.003143\n",
       "France       0.007429\n",
       "Germany      0.007857\n",
       "Japan        0.016571\n",
       "UK           0.017714\n",
       "USA          0.087857\n",
       "dtype: float64"
      ]
     },
     "execution_count": 6,
     "metadata": {},
     "output_type": "execute_result"
    }
   ],
   "source": [
    "print('Deviation of w0 from the equilibrium market weights weq')\n",
    "wdiff"
   ]
  },
  {
   "cell_type": "markdown",
   "metadata": {},
   "source": [
    "# c)"
   ]
  },
  {
   "cell_type": "code",
   "execution_count": 7,
   "metadata": {},
   "outputs": [],
   "source": [
    "q = np.array([[0.06], [0.02]])\n",
    "P = pd.DataFrame(data = 0, index = range(2), columns =  corr.columns)\n",
    "# first view\n",
    "P.loc[0, 'Germany'] = 1\n",
    "P.loc[0, 'France'] = -weq['France']/(weq['France'] + weq['UK'])\n",
    "P.loc[0, 'UK'] = -weq['UK']/(weq['France'] + weq['UK'])\n",
    "# second view\n",
    "P.loc[1, 'Canada'] =  1\n",
    "P.loc[1, 'USA'] = -1\n",
    "\n",
    "# turn to numpy arrays\n",
    "P = P.values\n",
    "mu0 = pd.DataFrame(mu0, index = mu0.index)\n",
    "mu0 = mu0.values\n",
    "omega0 = omega0.values\n",
    "\n",
    "# off diagonal elements are 0 = views are uncorrelated\n",
    "omega = np.array([[0.021, 0], [0,  0.017]])*tau\n",
    "omega_inv = np.linalg.inv(omega)\n",
    "omega0_inv = np.linalg.inv(omega0)\n",
    "\n",
    "# equations of slide 13 theorme\n",
    "mu_bar1 = mu0 + omega0@P.T@np.linalg.inv(P@omega0@P.T + omega)@(q - P@mu0)\n",
    "omega_bar1 = omega0 - omega0@P.T@np.linalg.inv(P@omega0@P.T + omega)@P@omega0\n",
    "\n",
    "# equations of slide 13 after some algebra\n",
    "mu_bar2 = np.linalg.inv(omega0_inv + P.T@omega_inv@P)@(omega0_inv@mu0 + P.T@omega_inv@q)\n",
    "omega_bar2 = np.linalg.inv(omega0_inv + P.T@omega_inv@P)\n",
    "\n",
    "# turn to dataframe\n",
    "mu_bar1 = pd.DataFrame(mu_bar1.reshape(-1, 1), index = corr.index)\n",
    "mu_bar2 = pd.DataFrame(mu_bar2.reshape(-1, 1), index = corr.index)\n",
    "\n",
    "omega_bar1 = pd.DataFrame(data = omega_bar1, index = corr.index,\n",
    "                          columns = corr.columns)\n",
    "omega_bar2 = pd.DataFrame(data = omega_bar2, index = corr.index,\n",
    "                          columns = corr.columns)"
   ]
  },
  {
   "cell_type": "code",
   "execution_count": 8,
   "metadata": {},
   "outputs": [
    {
     "name": "stdout",
     "output_type": "stream",
     "text": [
      "mu bar with first method\n"
     ]
    },
    {
     "data": {
      "text/html": [
       "<div>\n",
       "<style scoped>\n",
       "    .dataframe tbody tr th:only-of-type {\n",
       "        vertical-align: middle;\n",
       "    }\n",
       "\n",
       "    .dataframe tbody tr th {\n",
       "        vertical-align: top;\n",
       "    }\n",
       "\n",
       "    .dataframe thead th {\n",
       "        text-align: right;\n",
       "    }\n",
       "</style>\n",
       "<table border=\"1\" class=\"dataframe\">\n",
       "  <thead>\n",
       "    <tr style=\"text-align: right;\">\n",
       "      <th></th>\n",
       "      <th>0</th>\n",
       "    </tr>\n",
       "  </thead>\n",
       "  <tbody>\n",
       "    <tr>\n",
       "      <th>Australia</th>\n",
       "      <td>0.052669</td>\n",
       "    </tr>\n",
       "    <tr>\n",
       "      <th>Canada</th>\n",
       "      <td>0.099532</td>\n",
       "    </tr>\n",
       "    <tr>\n",
       "      <th>France</th>\n",
       "      <td>0.112952</td>\n",
       "    </tr>\n",
       "    <tr>\n",
       "      <th>Germany</th>\n",
       "      <td>0.133900</td>\n",
       "    </tr>\n",
       "    <tr>\n",
       "      <th>Japan</th>\n",
       "      <td>0.054910</td>\n",
       "    </tr>\n",
       "    <tr>\n",
       "      <th>UK</th>\n",
       "      <td>0.083590</td>\n",
       "    </tr>\n",
       "    <tr>\n",
       "      <th>USA</th>\n",
       "      <td>0.092511</td>\n",
       "    </tr>\n",
       "  </tbody>\n",
       "</table>\n",
       "</div>"
      ],
      "text/plain": [
       "                  0\n",
       "Australia  0.052669\n",
       "Canada     0.099532\n",
       "France     0.112952\n",
       "Germany    0.133900\n",
       "Japan      0.054910\n",
       "UK         0.083590\n",
       "USA        0.092511"
      ]
     },
     "execution_count": 8,
     "metadata": {},
     "output_type": "execute_result"
    }
   ],
   "source": [
    "print('mu bar with first method')\n",
    "mu_bar1"
   ]
  },
  {
   "cell_type": "code",
   "execution_count": 9,
   "metadata": {},
   "outputs": [
    {
     "name": "stdout",
     "output_type": "stream",
     "text": [
      "mu bar with second method\n"
     ]
    },
    {
     "data": {
      "text/html": [
       "<div>\n",
       "<style scoped>\n",
       "    .dataframe tbody tr th:only-of-type {\n",
       "        vertical-align: middle;\n",
       "    }\n",
       "\n",
       "    .dataframe tbody tr th {\n",
       "        vertical-align: top;\n",
       "    }\n",
       "\n",
       "    .dataframe thead th {\n",
       "        text-align: right;\n",
       "    }\n",
       "</style>\n",
       "<table border=\"1\" class=\"dataframe\">\n",
       "  <thead>\n",
       "    <tr style=\"text-align: right;\">\n",
       "      <th></th>\n",
       "      <th>0</th>\n",
       "    </tr>\n",
       "  </thead>\n",
       "  <tbody>\n",
       "    <tr>\n",
       "      <th>Australia</th>\n",
       "      <td>0.052669</td>\n",
       "    </tr>\n",
       "    <tr>\n",
       "      <th>Canada</th>\n",
       "      <td>0.099532</td>\n",
       "    </tr>\n",
       "    <tr>\n",
       "      <th>France</th>\n",
       "      <td>0.112952</td>\n",
       "    </tr>\n",
       "    <tr>\n",
       "      <th>Germany</th>\n",
       "      <td>0.133900</td>\n",
       "    </tr>\n",
       "    <tr>\n",
       "      <th>Japan</th>\n",
       "      <td>0.054910</td>\n",
       "    </tr>\n",
       "    <tr>\n",
       "      <th>UK</th>\n",
       "      <td>0.083590</td>\n",
       "    </tr>\n",
       "    <tr>\n",
       "      <th>USA</th>\n",
       "      <td>0.092511</td>\n",
       "    </tr>\n",
       "  </tbody>\n",
       "</table>\n",
       "</div>"
      ],
      "text/plain": [
       "                  0\n",
       "Australia  0.052669\n",
       "Canada     0.099532\n",
       "France     0.112952\n",
       "Germany    0.133900\n",
       "Japan      0.054910\n",
       "UK         0.083590\n",
       "USA        0.092511"
      ]
     },
     "execution_count": 9,
     "metadata": {},
     "output_type": "execute_result"
    }
   ],
   "source": [
    "print('mu bar with second method')\n",
    "mu_bar2"
   ]
  },
  {
   "cell_type": "markdown",
   "metadata": {},
   "source": [
    "Both results of mu bar are identical"
   ]
  },
  {
   "cell_type": "code",
   "execution_count": 10,
   "metadata": {},
   "outputs": [
    {
     "name": "stdout",
     "output_type": "stream",
     "text": [
      "omega bar with first method\n"
     ]
    },
    {
     "data": {
      "text/html": [
       "<div>\n",
       "<style scoped>\n",
       "    .dataframe tbody tr th:only-of-type {\n",
       "        vertical-align: middle;\n",
       "    }\n",
       "\n",
       "    .dataframe tbody tr th {\n",
       "        vertical-align: top;\n",
       "    }\n",
       "\n",
       "    .dataframe thead th {\n",
       "        text-align: right;\n",
       "    }\n",
       "</style>\n",
       "<table border=\"1\" class=\"dataframe\">\n",
       "  <thead>\n",
       "    <tr style=\"text-align: right;\">\n",
       "      <th></th>\n",
       "      <th>Australia</th>\n",
       "      <th>Canada</th>\n",
       "      <th>France</th>\n",
       "      <th>Germany</th>\n",
       "      <th>Japan</th>\n",
       "      <th>UK</th>\n",
       "      <th>USA</th>\n",
       "    </tr>\n",
       "  </thead>\n",
       "  <tbody>\n",
       "    <tr>\n",
       "      <th>Australia</th>\n",
       "      <td>0.001247</td>\n",
       "      <td>0.000724</td>\n",
       "      <td>0.000870</td>\n",
       "      <td>0.000951</td>\n",
       "      <td>0.000720</td>\n",
       "      <td>0.000804</td>\n",
       "      <td>0.000701</td>\n",
       "    </tr>\n",
       "    <tr>\n",
       "      <th>Canada</th>\n",
       "      <td>0.000724</td>\n",
       "      <td>0.001784</td>\n",
       "      <td>0.001513</td>\n",
       "      <td>0.001498</td>\n",
       "      <td>0.000615</td>\n",
       "      <td>0.001206</td>\n",
       "      <td>0.001503</td>\n",
       "    </tr>\n",
       "    <tr>\n",
       "      <th>France</th>\n",
       "      <td>0.000870</td>\n",
       "      <td>0.001513</td>\n",
       "      <td>0.002890</td>\n",
       "      <td>0.002500</td>\n",
       "      <td>0.000882</td>\n",
       "      <td>0.001906</td>\n",
       "      <td>0.001466</td>\n",
       "    </tr>\n",
       "    <tr>\n",
       "      <th>Germany</th>\n",
       "      <td>0.000951</td>\n",
       "      <td>0.001498</td>\n",
       "      <td>0.002500</td>\n",
       "      <td>0.002827</td>\n",
       "      <td>0.000920</td>\n",
       "      <td>0.002028</td>\n",
       "      <td>0.001456</td>\n",
       "    </tr>\n",
       "    <tr>\n",
       "      <th>Japan</th>\n",
       "      <td>0.000720</td>\n",
       "      <td>0.000615</td>\n",
       "      <td>0.000882</td>\n",
       "      <td>0.000920</td>\n",
       "      <td>0.002195</td>\n",
       "      <td>0.000842</td>\n",
       "      <td>0.000588</td>\n",
       "    </tr>\n",
       "    <tr>\n",
       "      <th>UK</th>\n",
       "      <td>0.000804</td>\n",
       "      <td>0.001206</td>\n",
       "      <td>0.001906</td>\n",
       "      <td>0.002028</td>\n",
       "      <td>0.000842</td>\n",
       "      <td>0.001993</td>\n",
       "      <td>0.001201</td>\n",
       "    </tr>\n",
       "    <tr>\n",
       "      <th>USA</th>\n",
       "      <td>0.000701</td>\n",
       "      <td>0.001503</td>\n",
       "      <td>0.001466</td>\n",
       "      <td>0.001456</td>\n",
       "      <td>0.000588</td>\n",
       "      <td>0.001201</td>\n",
       "      <td>0.001646</td>\n",
       "    </tr>\n",
       "  </tbody>\n",
       "</table>\n",
       "</div>"
      ],
      "text/plain": [
       "           Australia    Canada    France   Germany     Japan        UK  \\\n",
       "Australia   0.001247  0.000724  0.000870  0.000951  0.000720  0.000804   \n",
       "Canada      0.000724  0.001784  0.001513  0.001498  0.000615  0.001206   \n",
       "France      0.000870  0.001513  0.002890  0.002500  0.000882  0.001906   \n",
       "Germany     0.000951  0.001498  0.002500  0.002827  0.000920  0.002028   \n",
       "Japan       0.000720  0.000615  0.000882  0.000920  0.002195  0.000842   \n",
       "UK          0.000804  0.001206  0.001906  0.002028  0.000842  0.001993   \n",
       "USA         0.000701  0.001503  0.001466  0.001456  0.000588  0.001201   \n",
       "\n",
       "                USA  \n",
       "Australia  0.000701  \n",
       "Canada     0.001503  \n",
       "France     0.001466  \n",
       "Germany    0.001456  \n",
       "Japan      0.000588  \n",
       "UK         0.001201  \n",
       "USA        0.001646  "
      ]
     },
     "execution_count": 10,
     "metadata": {},
     "output_type": "execute_result"
    }
   ],
   "source": [
    "print('omega bar with first method')\n",
    "omega_bar1"
   ]
  },
  {
   "cell_type": "code",
   "execution_count": 11,
   "metadata": {},
   "outputs": [
    {
     "name": "stdout",
     "output_type": "stream",
     "text": [
      "omega bar with second method\n"
     ]
    },
    {
     "data": {
      "text/html": [
       "<div>\n",
       "<style scoped>\n",
       "    .dataframe tbody tr th:only-of-type {\n",
       "        vertical-align: middle;\n",
       "    }\n",
       "\n",
       "    .dataframe tbody tr th {\n",
       "        vertical-align: top;\n",
       "    }\n",
       "\n",
       "    .dataframe thead th {\n",
       "        text-align: right;\n",
       "    }\n",
       "</style>\n",
       "<table border=\"1\" class=\"dataframe\">\n",
       "  <thead>\n",
       "    <tr style=\"text-align: right;\">\n",
       "      <th></th>\n",
       "      <th>Australia</th>\n",
       "      <th>Canada</th>\n",
       "      <th>France</th>\n",
       "      <th>Germany</th>\n",
       "      <th>Japan</th>\n",
       "      <th>UK</th>\n",
       "      <th>USA</th>\n",
       "    </tr>\n",
       "  </thead>\n",
       "  <tbody>\n",
       "    <tr>\n",
       "      <th>Australia</th>\n",
       "      <td>0.001247</td>\n",
       "      <td>0.000724</td>\n",
       "      <td>0.000870</td>\n",
       "      <td>0.000951</td>\n",
       "      <td>0.000720</td>\n",
       "      <td>0.000804</td>\n",
       "      <td>0.000701</td>\n",
       "    </tr>\n",
       "    <tr>\n",
       "      <th>Canada</th>\n",
       "      <td>0.000724</td>\n",
       "      <td>0.001784</td>\n",
       "      <td>0.001513</td>\n",
       "      <td>0.001498</td>\n",
       "      <td>0.000615</td>\n",
       "      <td>0.001206</td>\n",
       "      <td>0.001503</td>\n",
       "    </tr>\n",
       "    <tr>\n",
       "      <th>France</th>\n",
       "      <td>0.000870</td>\n",
       "      <td>0.001513</td>\n",
       "      <td>0.002890</td>\n",
       "      <td>0.002500</td>\n",
       "      <td>0.000882</td>\n",
       "      <td>0.001906</td>\n",
       "      <td>0.001466</td>\n",
       "    </tr>\n",
       "    <tr>\n",
       "      <th>Germany</th>\n",
       "      <td>0.000951</td>\n",
       "      <td>0.001498</td>\n",
       "      <td>0.002500</td>\n",
       "      <td>0.002827</td>\n",
       "      <td>0.000920</td>\n",
       "      <td>0.002028</td>\n",
       "      <td>0.001456</td>\n",
       "    </tr>\n",
       "    <tr>\n",
       "      <th>Japan</th>\n",
       "      <td>0.000720</td>\n",
       "      <td>0.000615</td>\n",
       "      <td>0.000882</td>\n",
       "      <td>0.000920</td>\n",
       "      <td>0.002195</td>\n",
       "      <td>0.000842</td>\n",
       "      <td>0.000588</td>\n",
       "    </tr>\n",
       "    <tr>\n",
       "      <th>UK</th>\n",
       "      <td>0.000804</td>\n",
       "      <td>0.001206</td>\n",
       "      <td>0.001906</td>\n",
       "      <td>0.002028</td>\n",
       "      <td>0.000842</td>\n",
       "      <td>0.001993</td>\n",
       "      <td>0.001201</td>\n",
       "    </tr>\n",
       "    <tr>\n",
       "      <th>USA</th>\n",
       "      <td>0.000701</td>\n",
       "      <td>0.001503</td>\n",
       "      <td>0.001466</td>\n",
       "      <td>0.001456</td>\n",
       "      <td>0.000588</td>\n",
       "      <td>0.001201</td>\n",
       "      <td>0.001646</td>\n",
       "    </tr>\n",
       "  </tbody>\n",
       "</table>\n",
       "</div>"
      ],
      "text/plain": [
       "           Australia    Canada    France   Germany     Japan        UK  \\\n",
       "Australia   0.001247  0.000724  0.000870  0.000951  0.000720  0.000804   \n",
       "Canada      0.000724  0.001784  0.001513  0.001498  0.000615  0.001206   \n",
       "France      0.000870  0.001513  0.002890  0.002500  0.000882  0.001906   \n",
       "Germany     0.000951  0.001498  0.002500  0.002827  0.000920  0.002028   \n",
       "Japan       0.000720  0.000615  0.000882  0.000920  0.002195  0.000842   \n",
       "UK          0.000804  0.001206  0.001906  0.002028  0.000842  0.001993   \n",
       "USA         0.000701  0.001503  0.001466  0.001456  0.000588  0.001201   \n",
       "\n",
       "                USA  \n",
       "Australia  0.000701  \n",
       "Canada     0.001503  \n",
       "France     0.001466  \n",
       "Germany    0.001456  \n",
       "Japan      0.000588  \n",
       "UK         0.001201  \n",
       "USA        0.001646  "
      ]
     },
     "execution_count": 11,
     "metadata": {},
     "output_type": "execute_result"
    }
   ],
   "source": [
    "print('omega bar with second method')\n",
    "omega_bar2"
   ]
  },
  {
   "cell_type": "markdown",
   "metadata": {},
   "source": [
    "Results are the same for Omega bar"
   ]
  },
  {
   "cell_type": "markdown",
   "metadata": {},
   "source": [
    "# d)"
   ]
  },
  {
   "cell_type": "code",
   "execution_count": 12,
   "metadata": {},
   "outputs": [],
   "source": [
    "sigma_bar = sigma + omega_bar2\n",
    "w_star = np.linalg.inv(sigma_bar)@mu_bar2/gamma\n",
    "w_star = w_star[0]\n",
    "w_star.index = corr.index\n",
    "w_star_diff1 = w_star - w0\n",
    "w_star_diff2 = w_star - weq"
   ]
  },
  {
   "cell_type": "code",
   "execution_count": 13,
   "metadata": {},
   "outputs": [
    {
     "data": {
      "text/plain": [
       "Australia    0.018286\n",
       "Canada       0.318767\n",
       "France      -0.044373\n",
       "Germany      0.414184\n",
       "Japan        0.132571\n",
       "UK          -0.105812\n",
       "USA          0.409233\n",
       "Name: 0, dtype: float64"
      ]
     },
     "execution_count": 13,
     "metadata": {},
     "output_type": "execute_result"
    }
   ],
   "source": [
    "w_star"
   ]
  },
  {
   "cell_type": "code",
   "execution_count": 14,
   "metadata": {},
   "outputs": [
    {
     "data": {
      "text/plain": [
       "Australia    1.065120e-15\n",
       "Canada       2.936240e-01\n",
       "France      -1.038012e-01\n",
       "Germany      3.513272e-01\n",
       "Japan        1.387779e-16\n",
       "UK          -2.475260e-01\n",
       "USA         -2.936240e-01\n",
       "dtype: float64"
      ]
     },
     "execution_count": 14,
     "metadata": {},
     "output_type": "execute_result"
    }
   ],
   "source": [
    "w_star_diff1"
   ]
  },
  {
   "cell_type": "code",
   "execution_count": 15,
   "metadata": {},
   "outputs": [
    {
     "data": {
      "text/plain": [
       "Australia    0.002286\n",
       "Canada       0.296767\n",
       "France      -0.096373\n",
       "Germany      0.359184\n",
       "Japan        0.016571\n",
       "UK          -0.229812\n",
       "USA         -0.205767\n",
       "dtype: float64"
      ]
     },
     "execution_count": 15,
     "metadata": {},
     "output_type": "execute_result"
    }
   ],
   "source": [
    "w_star_diff2"
   ]
  },
  {
   "cell_type": "markdown",
   "metadata": {},
   "source": [
    "# e)"
   ]
  },
  {
   "cell_type": "code",
   "execution_count": 16,
   "metadata": {},
   "outputs": [
    {
     "data": {
      "text/plain": [
       "array([[0.3513272 ],\n",
       "       [0.29362404]])"
      ]
     },
     "execution_count": 16,
     "metadata": {},
     "output_type": "execute_result"
    }
   ],
   "source": [
    "sigma = sigma.values\n",
    "lam = 1/gamma * np.linalg.inv(P@sigma@P.T + (1 + 1/tau)*omega)@(q - 1/(1+tau)*P@mu0)\n",
    "lam"
   ]
  },
  {
   "cell_type": "markdown",
   "metadata": {},
   "source": [
    "# f)"
   ]
  },
  {
   "cell_type": "code",
   "execution_count": 43,
   "metadata": {},
   "outputs": [
    {
     "data": {
      "text/plain": [
       "Text(0, 0.5, 'lambda 3')"
      ]
     },
     "execution_count": 43,
     "metadata": {},
     "output_type": "execute_result"
    },
    {
     "data": {
      "image/png": "[encoded data removed]",
      "text/plain": [
       "<Figure size 864x864 with 3 Axes>"
      ]
     },
     "metadata": {
      "needs_background": "light"
     },
     "output_type": "display_data"
    }
   ],
   "source": [
    "q3 = np.array([[0.06], [0.02], [0.045]])\n",
    "P3 = pd.DataFrame(data = 0, index = range(3), columns =  corr.columns)\n",
    "# first view\n",
    "P3.loc[0, 'Germany'] = 1\n",
    "P3.loc[0, 'France'] = -weq['France']/(weq['France'] + weq['UK'])\n",
    "P3.loc[0, 'UK'] = -weq['UK']/(weq['France'] + weq['UK'])\n",
    "# second view\n",
    "P3.loc[1, 'Canada'] =  1\n",
    "P3.loc[1, 'USA'] = -1\n",
    "# third view\n",
    "P3.loc[2, 'Japan'] = 1\n",
    "P3 = P3.values\n",
    "\n",
    "plot_lam1 = []\n",
    "plot_lam2 = []\n",
    "plot_lam3 = []\n",
    "plot_om3 = np.linspace(0.01, 0.03, 50)\n",
    "plot_wstar = pd.DataFrame(data = np.nan, columns = sigma0.columns,\n",
    "                          index = plot_om3)\n",
    "for e in plot_om3:\n",
    "    omega3 = np.array([[0.021, 0, 0], [0, 0.017, 0], [0, 0, e]])*tau\n",
    "    omega_inv3 = np.linalg.inv(omega3)\n",
    "    mu_bar3 = np.linalg.inv(omega0_inv + P3.T@omega_inv3@P3)@(omega0_inv@mu0 + P3.T@omega_inv3@q3)\n",
    "    omega_bar3 = np.linalg.inv(omega0_inv + P3.T@omega_inv3@P3)\n",
    "    sigma_bar3 = sigma + omega_bar3\n",
    "    w_star3 = np.linalg.inv(sigma_bar3)@mu_bar3/gamma\n",
    "    lam3 = 1/gamma * np.linalg.inv(P3@sigma@P3.T + (1 + 1/tau)*omega3)@(q3 - 1/(1+tau)*P3@mu0)\n",
    "    # memorize lambdas\n",
    "    plot_lam1.append(lam3[0][0])\n",
    "    plot_lam2.append(lam3[1][0])\n",
    "    plot_lam3.append(lam3[2][0])\n",
    "    # plot optimal weights for each continent\n",
    "    plot_wstar.loc[e, :] = w_star3.T\n",
    "    \n",
    "\n",
    "fig, ax = plt.subplots(figsize = (12, 12), nrows = 3, ncols = 1)\n",
    "ax[0].set_title('Evolution of view-weights vs. Omega 33')\n",
    "\n",
    "ax[0].plot(plot_om3, plot_lam1)\n",
    "ax[0].set_xlabel('Omega 33')\n",
    "ax[0].set_ylabel('lambda 1')\n",
    "\n",
    "ax[1].plot(plot_om3, plot_lam2)\n",
    "ax[1].set_xlabel('Omega 33')\n",
    "ax[1].set_ylabel('lambda 2')\n",
    "\n",
    "ax[2].plot(plot_om3, plot_lam3)\n",
    "ax[2].set_xlabel('Omega 33')\n",
    "ax[2].set_ylabel('lambda 3')"
   ]
  },
  {
   "cell_type": "code",
   "execution_count": 50,
   "metadata": {},
   "outputs": [
    {
     "data": {
      "text/plain": [
       "Text(0, 0.5, '$w^*$ by country')"
      ]
     },
     "execution_count": 50,
     "metadata": {},
     "output_type": "execute_result"
    },
    {
     "data": {
      "image/png": "[encoded data removed]",
      "text/plain": [
       "<Figure size 864x504 with 1 Axes>"
      ]
     },
     "metadata": {
      "needs_background": "light"
     },
     "output_type": "display_data"
    }
   ],
   "source": [
    "fig, ax = plt.subplots(figsize = (12, 7))\n",
    "plot_wstar.plot(ax = ax)\n",
    "ax.set_xlabel('Omega 33')\n",
    "ax.set_ylabel('$w^*$ by country')"
   ]
  },
  {
   "cell_type": "code",
   "execution_count": null,
   "metadata": {},
   "outputs": [],
   "source": []
  }
 ],
 "metadata": {
  "kernelspec": {
   "display_name": "Python 3",
   "language": "python",
   "name": "python3"
  },
  "language_info": {
   "codemirror_mode": {
    "name": "ipython",
    "version": 3
   },
   "file_extension": ".py",
   "mimetype": "text/x-python",
   "name": "python",
   "nbconvert_exporter": "python",
   "pygments_lexer": "ipython3",
   "version": "3.7.6"
  }
 },
 "nbformat": 4,
 "nbformat_minor": 4
}
